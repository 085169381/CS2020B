{
  "nbformat": 4,
  "nbformat_minor": 0,
  "metadata": {
    "colab": {
      "name": "python決策與選擇結構_題目.ipynb",
      "provenance": [],
      "collapsed_sections": [
        "MEZcJ1-p0lTU"
      ]
    },
    "kernelspec": {
      "name": "python3",
      "display_name": "Python 3"
    }
  },
  "cells": [
    {
      "cell_type": "markdown",
      "metadata": {
        "id": "MEZcJ1-p0lTU"
      },
      "source": [
        "# python決策與選擇結構\n",
        "\n",
        "[1]if\n",
        "\n",
        "[2]if ...elsif\n",
        "\n",
        "[3]if ...else\n",
        "\n",
        "[4]if ...elsif ...else\n",
        "\n",
        "[5]各種判斷條件\n",
        "   AND\n",
        "   OR\n",
        "\n",
        "單向判斷式（if⋯）: 是非題｜對的才要做\n",
        "\n",
        "雙向判斷式（if⋯else）: 二選一｜一定要選的\n",
        "\n",
        "多向判斷式（if⋯elif⋯else）: 多選一｜一定要選的"
      ]
    },
    {
      "cell_type": "markdown",
      "metadata": {
        "id": "mDDQUlFf0t1k"
      },
      "source": [
        "# [1]if"
      ]
    },
    {
      "cell_type": "markdown",
      "metadata": {
        "id": "XC3E_HLv039c"
      },
      "source": [
        "底下程式執行後結果為何?\n",
        "\n",
        "(A)程式有誤,無法執行\n",
        "\n",
        "(B)程式可以執行,結果是列印出 b is greater than a\n",
        "\n",
        "(C)程式可以執行,結果是不會印出任何東西\n",
        "```\n",
        "a = 33\n",
        "b = 200\n",
        "\n",
        "if b > a:\n",
        "  print(\"b is greater than a\")\n",
        "```"
      ]
    },
    {
      "cell_type": "code",
      "metadata": {
        "id": "72c3T13c0jPM"
      },
      "source": [
        "a = 33\n",
        "b = 200\n",
        "\n",
        "if b > a:\n",
        "  print(\"b is greater than a\")"
      ],
      "execution_count": null,
      "outputs": []
    },
    {
      "cell_type": "markdown",
      "metadata": {
        "id": "Oskeqkqi1jiN"
      },
      "source": [
        "\n",
        "底下程式執行後結果為何?\n",
        "\n",
        "(A)程式有誤,無法執行\n",
        "\n",
        "(B)程式可以執行,結果是列印出 b is greater than a\n",
        "\n",
        "(C)程式可以執行,結果是不會印出任何東西\n",
        "```\n",
        "a = 33\n",
        "b = 20\n",
        "\n",
        "if b > a:\n",
        "  print(\"b is greater than a\")\n",
        "\n",
        "```"
      ]
    },
    {
      "cell_type": "code",
      "metadata": {
        "id": "7e9G4SMQ1yS6"
      },
      "source": [
        "a = 33\n",
        "b = 20\n",
        "\n",
        "if b > a:\n",
        "  print(\"b is greater than a\")"
      ],
      "execution_count": null,
      "outputs": []
    },
    {
      "cell_type": "markdown",
      "metadata": {
        "id": "x7asb1Gw1-e7"
      },
      "source": [
        "# [2]if ...elsif"
      ]
    },
    {
      "cell_type": "markdown",
      "metadata": {
        "id": "SvkP3n6y4n82"
      },
      "source": [
        "底下程式執行後結果為何?\n",
        "\n",
        "(A)程式有誤,無法執行\n",
        "\n",
        "(B)程式可以執行,結果是列印出 b is greater than a\n",
        "\n",
        "(C)程式可以執行,結果是不會印出任何東西\n",
        "\n",
        "\n",
        "```\n",
        "a = 32\n",
        "b = 33\n",
        "\n",
        "if b > a:\n",
        "  print(\"b is greater than a\")\n",
        "elif a == b:\n",
        "  print(\"a and b are equal\")\n",
        "```"
      ]
    },
    {
      "cell_type": "markdown",
      "metadata": {
        "id": "8LG1xY6t4rN0"
      },
      "source": [
        "底下程式執行後結果為何?\n",
        "\n",
        "(A)程式有誤,無法執行\n",
        "\n",
        "(B)程式可以執行,結果是列印出 b is greater than a\n",
        "\n",
        "(C)程式可以執行,結果是不會印出任何東西\n",
        "```\n",
        "a = 33\n",
        "b = 33\n",
        "if b > a:\n",
        "  print(\"b is greater than a\")\n",
        "elif a == b:\n",
        "  print(\"a and b are equal\")\n",
        "```"
      ]
    },
    {
      "cell_type": "markdown",
      "metadata": {
        "id": "LH9k85cF4u70"
      },
      "source": [
        "底下程式執行後結果為何?\n",
        "\n",
        "(A)程式有誤,無法執行\n",
        "\n",
        "(B)程式可以執行,結果是列印出 b is greater than a\n",
        "\n",
        "(C)程式可以執行,結果是不會印出任何東西\n",
        "```\n",
        "a = 35\n",
        "b = 33\n",
        "\n",
        "if b > a:\n",
        "  print(\"b is greater than a\")\n",
        "elif a == b:\n",
        "  print(\"a and b are equal\")\n",
        "```"
      ]
    },
    {
      "cell_type": "markdown",
      "metadata": {
        "id": "37lw6uMw41fL"
      },
      "source": [
        "# 雙向判斷式（if⋯else）: 二選一｜一定要選的"
      ]
    },
    {
      "cell_type": "markdown",
      "metadata": {
        "id": "f1C_gOUC44Jz"
      },
      "source": [
        "底下程式執行後結果為何?\n",
        "\n",
        "(A)程式有誤,無法執行\n",
        "\n",
        "(B)程式可以執行,結果是列印出 b is greater than a\n",
        "\n",
        "(C)程式可以執行,結果是不會印出任何東西\n",
        "\n",
        "```\n",
        "a = 200\n",
        "b = 33\n",
        "\n",
        "if b > a:\n",
        "  print(\"b is greater than a\")\n",
        "else:\n",
        "  print(\"b is not greater than a\")\n",
        "```"
      ]
    },
    {
      "cell_type": "markdown",
      "metadata": {
        "id": "tq_BRw1u6HXe"
      },
      "source": [
        "底下程式執行後結果為何?\n",
        "\n",
        "(A)程式有誤,無法執行\n",
        "\n",
        "(B)程式可以執行,結果是列印出 b is greater than a\n",
        "\n",
        "(C)程式可以執行,結果是不會印出任何東西\n",
        "\n",
        "```\n",
        "a = 200\n",
        "b = 333\n",
        "\n",
        "if b > a:\n",
        "  print(\"b is greater than a\")\n",
        "else:\n",
        "  print(\"b is not greater than a\")\n",
        "```"
      ]
    },
    {
      "cell_type": "markdown",
      "metadata": {
        "id": "css_fxoB49vc"
      },
      "source": [
        "# [4]if ...elsif ...else 多選一｜一定要選的\n",
        "\n"
      ]
    },
    {
      "cell_type": "markdown",
      "metadata": {
        "id": "zWQ-X4Ye4_OD"
      },
      "source": [
        "底下程式執行後結果為何?\n",
        "\n",
        "(A)程式有誤,無法執行\n",
        "\n",
        "(B)程式可以執行,結果是列印出 b is greater than a\n",
        "\n",
        "(C)程式可以執行,結果是不會印出任何東西\n",
        "\n",
        "```\n",
        "a = 200\n",
        "b = 33\n",
        "\n",
        "if b > a:\n",
        "  print(\"b is greater than a\")\n",
        "elif a == b:\n",
        "  print(\"a and b are equal\")\n",
        "else:\n",
        "  print(\"a is greater than b\")\n",
        "\n",
        "```"
      ]
    },
    {
      "cell_type": "markdown",
      "metadata": {
        "id": "yCzK_Ckh3Bat"
      },
      "source": [
        "# 各種判斷條件撰寫\n",
        "\n",
        "善用 AND OR"
      ]
    },
    {
      "cell_type": "markdown",
      "metadata": {
        "id": "xXc_ilYS3PSd"
      },
      "source": [
        "## 案例分析:\n",
        "\n",
        "輸入西元年\n",
        "\n",
        "輸出是否為閏年?\n",
        "\n",
        "完成底下程式撰寫\n",
        "\n",
        "```\n",
        "year= eval(input(\"請輸入年\"))\n",
        "\n",
        "if ________判斷是否為閏年的條件_________:\n",
        "  print(\"{0} 是閏年\".format(year))\n",
        "else:\n",
        "  print(\"{0} 不是閏年\".format(year))\n",
        "\n",
        "```\n"
      ]
    },
    {
      "cell_type": "code",
      "metadata": {
        "id": "D804VffU3A0M"
      },
      "source": [
        "year= eval(input(\"請輸入年\"))\n",
        "\n",
        "if ((year%400==0) or (year%4==0 and year%100!=0)):\n",
        "  print(\"{0} 是閏年\".format(year))\n",
        "else:\n",
        "  print(\"{0} 不是閏年\".format(year))"
      ],
      "execution_count": null,
      "outputs": []
    },
    {
      "cell_type": "markdown",
      "metadata": {
        "id": "0ny8a2yv3moj"
      },
      "source": [
        "# 程式撰寫題: 歲月匆匆程式開發\n",
        "\n",
        "輸入:年月日\n",
        "\n",
        "輸出:已經過了多少日"
      ]
    },
    {
      "cell_type": "code",
      "metadata": {
        "id": "HZGo0jxm33x5"
      },
      "source": [
        "import time\n",
        "\n",
        "year, month, day = eval(input(\"請輸入年月日::\"))\n",
        "\n",
        "day_month = [31, 28, 31, 30, 31, 30, 31, 31, 30, 31, 30, 31]\n",
        "\n",
        "if year%400==0 or (year%4==0 and year%100!=0):\t\n",
        "  day_month[1] = 29\n",
        "\n",
        "if month==1:\n",
        "    print(day)\n",
        "else:\n",
        "    print(sum(day_month[:month-1])+day)"
      ],
      "execution_count": null,
      "outputs": []
    },
    {
      "cell_type": "markdown",
      "metadata": {
        "id": "dJFPk3rQ4B_j"
      },
      "source": [
        "# 程式撰寫題: 收銀台程式開發\n",
        "\n",
        "```\n",
        "百貨公司週年慶活動血拼大打折，\n",
        "吸引很多顧客上門，\n",
        "公司決定再加碼回饋客戶，\n",
        "\n",
        "只要客戶消費\n",
        "金額在 100000 元以上就打八折，\n",
        "金額在 50000 元以上就打八五折，\n",
        "金額在 30000 元以上就打九折，\n",
        "金額在 10000 元以上就打九五折，\n",
        "金額在 10000 元以下就不打折\n",
        "\n",
        "請幫該公司設計這個收銀台的程式，\n",
        "輸入顧客購買金額後，計算顧客應付的金錢。\n",
        "\n",
        "```"
      ]
    }
  ]
}