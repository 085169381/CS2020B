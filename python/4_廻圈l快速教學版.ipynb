{
 "cells": [
  {
   "cell_type": "markdown",
   "metadata": {
    "collapsed": false,
    "id": "9XUenoirDtcm"
   },
   "source": [
    "## 課程目標：\n",
    "```\n",
    "[1].使用range 函式 的功能建立整數循序數列\n",
    "\n",
    "[2].使用for 廻圈 執行固定次數的廻圈運算(通常)\n",
    "[3].使用while 廻圈執行沒有固定次數的廻圈運算\n",
    "\n",
    "[4].continue 指令 \n",
    "  是在廻圈執行中途暫時停住不往下執行，而跳到廻圈的起始處執行\n",
    "[5].break 指令:可在廻圈執行中途強迫跳離廻圈，跳到廻圈後面的程式繼續執行。\n",
    "\n",
    "[6].廻圈中又包含廻圈的巢狀廻圈(Nested Loop)　===>設計九九乘法表\n",
    "```\n",
    "```\n",
    "PS:Python沒有do… while 廻圈\n",
    "你自己實作一個吧?!!\n",
    "```"
   ]
  },
  {
   "cell_type": "markdown",
   "metadata": {
    "collapsed": false,
    "id": "jjZwT3gGD6CV"
   },
   "source": [
    "# 1.range() 函式\n",
    "```\n",
    " 使用range 函式 的建立整數循序數列\n",
    " \n",
    "變數1 = range(整數值)\n",
    "變數2 = range(起始值, 終止值)\n",
    "變數3 = range(起始值, 終止值, 多少間隔)\n",
    "```"
   ]
  },
  {
   "cell_type": "markdown",
   "metadata": {
    "collapsed": false,
    "id": "PYzbQkN3EB37"
   },
   "source": [
    "底下程式執行後結果為何?\n",
    "```\n",
    "list1=range(10)\n",
    "print(list1)\n",
    "```"
   ]
  },
  {
   "cell_type": "markdown",
   "metadata": {
    "collapsed": false,
    "id": "26K6a6e2EQoL"
   },
   "source": [
    "底下程式執行後結果為何?\n",
    "```\n",
    "list1=range(10)\n",
    "print(list1)\n",
    "\n",
    "print(list(list1))\n",
    "```"
   ]
  },
  {
   "cell_type": "markdown",
   "metadata": {
    "collapsed": false,
    "id": "L4h35BhIEfSy"
   },
   "source": [
    "底下程式執行後結果為何?\n",
    "```\n",
    "list2=range(-4,5)\n",
    "print(list(list2))\n",
    "```"
   ]
  },
  {
   "cell_type": "markdown",
   "metadata": {
    "collapsed": false,
    "id": "8dydXXXcEqsL"
   },
   "source": [
    "底下程式執行後結果為何?\n",
    "```\n",
    "list3=range(-4,5,2)\n",
    "print(list(list3))\n",
    "```\n"
   ]
  },
  {
   "cell_type": "markdown",
   "metadata": {
    "collapsed": false,
    "id": "iQ7yqm-DE5UD"
   },
   "source": [
    "# [2]for 廻圈\n",
    "```\n",
    "使用for 廻圈 執行固定次數的廻圈運算(通常)\n",
    "```"
   ]
  },
  {
   "cell_type": "markdown",
   "metadata": {
    "collapsed": false,
    "id": "9SOyhJKEE8IT"
   },
   "source": [
    "底下程式執行後結果為何?\n",
    "```\n",
    "for n in range(5):\n",
    "  print(n)\n",
    "```"
   ]
  },
  {
   "cell_type": "markdown",
   "metadata": {
    "collapsed": false,
    "id": "Mwkc55eeFY8L"
   },
   "source": [
    "### 作業:印出底下range(5)數字\n",
    "```\n",
    "0 1 2 3 4\n",
    "```"
   ]
  },
  {
   "cell_type": "markdown",
   "metadata": {
    "collapsed": false,
    "id": "57NB1uKFFSVL"
   },
   "source": [
    "底下程式執行後結果為何?\n",
    "```\n",
    "for n in range(10):\n",
    "    print(n, end='@')\n",
    "```"
   ]
  },
  {
   "cell_type": "markdown",
   "metadata": {
    "collapsed": false,
    "id": "WypPvxtcGO4R"
   },
   "source": [
    "底下程式執行後結果為何?\n",
    "```\n",
    "mysum = 0\n",
    "\n",
    "for n in range(5):\n",
    "  mysum += n\n",
    "  print(mysum)\n",
    "```\n",
    "```\n",
    "mysum += n\n",
    "就是\n",
    "mysum = mysum + n\n",
    "```"
   ]
  },
  {
   "cell_type": "markdown",
   "metadata": {
    "collapsed": false,
    "id": "1pYgf0TSGeQD"
   },
   "source": [
    "底下程式執行後結果為何?\n",
    "```\n",
    "mysum = 0\n",
    "\n",
    "for n in range(5):\n",
    "  mysum += n\n",
    "  \n",
    "print(mysum)\n",
    "```"
   ]
  },
  {
   "cell_type": "markdown",
   "metadata": {
    "collapsed": false,
    "id": "c-DotU51Hikc"
   },
   "source": [
    "## [程式閱讀題]\n",
    "```\n",
    "執行下列程式並說明其結果\n",
    "\n",
    "numbers = [21, 4, 35, 1, 8, 7, 3, 6, 9]\n",
    "my_numbers = []\n",
    "\n",
    "for number in numbers:\n",
    "  if (number % 2 != 0): \n",
    "    my_numbers.append(number)\n",
    "\n",
    "print(my_numbers)\n",
    "```"
   ]
  },
  {
   "cell_type": "markdown",
   "metadata": {
    "collapsed": false,
    "id": "YEZ0Y4XwHqmd"
   },
   "source": [
    "### [程式閱讀題]\n",
    "上述程式如果第五行改成  if (number % 2 = 0):答案會是甚麼??"
   ]
  },
  {
   "cell_type": "markdown",
   "metadata": {
    "collapsed": false,
    "id": "-Q8nUklLIclr"
   },
   "source": [
    "## [程式填充題]\n",
    "```\n",
    "下列程式將某LIST中的奇數挑出\n",
    "\n",
    "請完成其中填空\n",
    "\n",
    "numbers = [21, 4, 35, 1, 8, 7, 3, 6, 9]\n",
    "my_numbers = []\n",
    "\n",
    "for number in numbers:\n",
    "  if _______________: \n",
    "    my_numbers.append(number)\n",
    "\n",
    "print(my_numbers)\n",
    "```"
   ]
  },
  {
   "cell_type": "markdown",
   "metadata": {
    "collapsed": false,
    "id": "A_kJIyfDI4y1"
   },
   "source": [
    "# [3]While Loop\n",
    "```\n",
    "n階程的計算:n!=1*2*3*⋯*n\n",
    "1!　=　１\n",
    "2!　=　1*2　=　2\n",
    "3!　=　1*2*3　=　6\n",
    "\n",
    "輸入::一個正整數 n\n",
    "輸出::n!\n",
    "\n",
    "當使用者輸入一個正整數 n 後，\n",
    "程式就會顯示1*2*3*...*n 的乘積\n",
    "請使用 while loop設計這個程式\n",
    "```"
   ]
  },
  {
   "cell_type": "markdown",
   "metadata": {
    "collapsed": false,
    "id": "C2b-kp1kJa_c"
   },
   "source": [
    "# [程式填充題]\n",
    "\n",
    "下列程式為n階程的計算\n",
    " \n",
    "請完成其中填空\n",
    "```\n",
    "total = 1\n",
    "i = 1\n",
    "\n",
    "n = int(input(\"請輸入正整數 n 的值：\"))\n",
    "\n",
    "while(i<=n):\n",
    "    ___________________ \n",
    "    ___________________      \n",
    "\n",
    "print(\"%d!=%d\" % (n, total))\n",
    "```"
   ]
  },
  {
   "cell_type": "code",
   "execution_count": 13,
   "metadata": {
    "colab": {
     "base_uri": "https://localhost:8080/",
     "height": 51
    },
    "collapsed": false,
    "id": "ToUYMCTWJF_B",
    "outputId": "cefc1f30-c9f4-4289-b917-04d28c65a289"
   },
   "outputs": [
    {
     "name": "stdout",
     "output_type": "stream",
     "text": [
      "請輸入正整數 n 的值：3\n",
      "3!=6\n"
     ]
    }
   ],
   "source": [
    "total = 1\n",
    "i = 1\n",
    "\n",
    "n = int(input(\"請輸入正整數 n 的值：\"))\n",
    "\n",
    "while(i<=n):\n",
    "    total *= i  \n",
    "    i+=1      \n",
    "\n",
    "print(\"%d!=%d\" % (n, total))"
   ]
  }
 ],
 "metadata": {
  "colab": {
   "collapsed_sections": [
    "9XUenoirDtcm"
   ],
   "name": "4_廻圈loop.ipynb",
   "provenance": [
   ]
  },
  "kernelspec": {
   "display_name": "Python 3 (system-wide)",
   "language": "python",
   "metadata": {
    "cocalc": {
     "description": "Python 3 programming language",
     "priority": 100,
     "url": "https://www.python.org/"
    }
   },
   "name": "python3"
  },
  "language_info": {
   "codemirror_mode": {
    "name": "ipython",
    "version": 3
   },
   "file_extension": ".py",
   "mimetype": "text/x-python",
   "name": "python",
   "nbconvert_exporter": "python",
   "pygments_lexer": "ipython3",
   "version": "3.8.5"
  }
 },
 "nbformat": 4,
 "nbformat_minor": 4
}