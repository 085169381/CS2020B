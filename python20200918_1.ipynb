{
  "nbformat": 4,
  "nbformat_minor": 0,
  "metadata": {
    "colab": {
      "name": "python20200918_1.ipynb",
      "provenance": [],
      "collapsed_sections": [],
      "authorship_tag": "ABX9TyMB3pP+D9AgWszs/05+Gh+r",
      "include_colab_link": true
    },
    "kernelspec": {
      "name": "python3",
      "display_name": "Python 3"
    }
  },
  "cells": [
    {
      "cell_type": "markdown",
      "metadata": {
        "id": "view-in-github",
        "colab_type": "text"
      },
      "source": [
        "<a href=\"https://colab.research.google.com/github/MyDearGreatTeacher/CS2020B/blob/master/python20200918_1.ipynb\" target=\"_parent\"><img src=\"https://colab.research.google.com/assets/colab-badge.svg\" alt=\"Open In Colab\"/></a>"
      ]
    },
    {
      "cell_type": "markdown",
      "metadata": {
        "id": "dhvxZ3b1BUwS",
        "colab_type": "text"
      },
      "source": [
        "# 20200918\n",
        "\n",
        "\n",
        "恩師最偉大"
      ]
    },
    {
      "cell_type": "code",
      "metadata": {
        "id": "vK3VjqebBRWy",
        "colab_type": "code",
        "colab": {
          "base_uri": "https://localhost:8080/",
          "height": 139
        },
        "outputId": "5dff1250-dba9-48b5-e8a6-f56b7bda1754"
      },
      "source": [
        "import pandas as pd\n",
        "print(\"pandas version: %s\" % pd.__version__)\n",
        "\n",
        "import matplotlib\n",
        "print(\"matplotlib version: %s\" % matplotlib.__version__)\n",
        "\n",
        "import numpy as np\n",
        "print(\"numpy version: %s\" % np.__version__)\n",
        "\n",
        "import sklearn\n",
        "print(\"scikit-learn version: %s\" % sklearn.__version__)\n",
        "\n",
        "import tensorflow as tf\n",
        "print(\"tensorflow version: %s\" % tf.__version__)\n",
        "\n",
        "import torch\n",
        "print(\"PyTorch version: %s\" %torch.__version__)\n",
        "print(\"2020年3月PyTorch version最新版本 是1.4 請參閱https://pytorch.org/\")"
      ],
      "execution_count": 1,
      "outputs": [
        {
          "output_type": "stream",
          "text": [
            "pandas version: 1.0.5\n",
            "matplotlib version: 3.2.2\n",
            "numpy version: 1.18.5\n",
            "scikit-learn version: 0.22.2.post1\n",
            "tensorflow version: 2.3.0\n",
            "PyTorch version: 1.6.0+cu101\n",
            "2020年3月PyTorch version最新版本 是1.4 請參閱https://pytorch.org/\n"
          ],
          "name": "stdout"
        }
      ]
    },
    {
      "cell_type": "code",
      "metadata": {
        "id": "TvjQ4s0zBfSl",
        "colab_type": "code",
        "colab": {
          "base_uri": "https://localhost:8080/",
          "height": 52
        },
        "outputId": "3fa5f573-da52-44de-bddd-0778f05ae051"
      },
      "source": [
        "# -*- coding: utf-8 -*-\n",
        "\n",
        "\n",
        "x = input('Enter your name:')\n",
        "print('Hello, ' + x)"
      ],
      "execution_count": 2,
      "outputs": [
        {
          "output_type": "stream",
          "text": [
            "Enter your name:khlgklgkf;lfk\n",
            "Hello, khlgklgkf;lfk\n"
          ],
          "name": "stdout"
        }
      ]
    }
  ]
}